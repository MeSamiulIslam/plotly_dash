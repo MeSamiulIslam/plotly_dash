{
  "nbformat": 4,
  "nbformat_minor": 0,
  "metadata": {
    "colab": {
      "provenance": [],
      "authorship_tag": "ABX9TyNh1pAy48RpKJfuGh+6j4pS",
      "include_colab_link": true
    },
    "kernelspec": {
      "name": "python3",
      "display_name": "Python 3"
    },
    "language_info": {
      "name": "python"
    }
  },
  "cells": [
    {
      "cell_type": "markdown",
      "metadata": {
        "id": "view-in-github",
        "colab_type": "text"
      },
      "source": [
        "<a href=\"https://colab.research.google.com/github/MeSamiulIslam/plotly_dash/blob/main/Plotly_random_scatter_02.ipynb\" target=\"_parent\"><img src=\"https://colab.research.google.com/assets/colab-badge.svg\" alt=\"Open In Colab\"/></a>"
      ]
    },
    {
      "cell_type": "code",
      "execution_count": 7,
      "metadata": {
        "id": "vFsOiVXm-l1n"
      },
      "outputs": [],
      "source": [
        "import dash\n",
        "import dash_core_components as dcc\n",
        "import plotly.graph_objs as go\n",
        "import dash_html_components as html\n",
        "import numpy as np"
      ]
    },
    {
      "cell_type": "code",
      "source": [
        "app = dash.Dash()"
      ],
      "metadata": {
        "id": "ixhaaQD3--nF"
      },
      "execution_count": 4,
      "outputs": []
    },
    {
      "cell_type": "code",
      "source": [
        "np.random.seed(40)\n",
        "x_random = np.random.randint(1,51,50)\n",
        "y_random = np.random.randint(1,51,50)"
      ],
      "metadata": {
        "id": "yVJlu2Qx_Ey9"
      },
      "execution_count": 5,
      "outputs": []
    },
    {
      "cell_type": "code",
      "source": [
        "app.layout = html.Div([\n",
        "\n",
        "    dcc.Graph(\n",
        "        id = 'scatter_chart',\n",
        "        figure = {\n",
        "            'data' : [\n",
        "                go.Scatter(\n",
        "                    x = x_random,\n",
        "                    y = y_random,\n",
        "                    mode = 'markers'\n",
        "                )\n",
        "            ],\n",
        "            'layout' : go.Layout(\n",
        "                title = 'Scatterplot of random 50 Points',\n",
        "                xaxis = {'title' : 'Random X values'},\n",
        "                yaxis = {'title' : 'random Y values'}\n",
        "            )\n",
        "        }\n",
        "    )\n",
        "])"
      ],
      "metadata": {
        "id": "SBemxCrY_d68"
      },
      "execution_count": 9,
      "outputs": []
    },
    {
      "cell_type": "code",
      "source": [
        "if __name__ == '__main__':\n",
        "  app.run_server(port = 4050)"
      ],
      "metadata": {
        "colab": {
          "base_uri": "https://localhost:8080/",
          "height": 671
        },
        "id": "l8I2tQ4a_pi3",
        "outputId": "26f865a6-b70f-4ba5-9a3b-dab9356dad35"
      },
      "execution_count": 10,
      "outputs": [
        {
          "output_type": "display_data",
          "data": {
            "text/plain": [
              "<IPython.core.display.Javascript object>"
            ],
            "application/javascript": [
              "(async (port, path, width, height, cache, element) => {\n",
              "    if (!google.colab.kernel.accessAllowed && !cache) {\n",
              "      return;\n",
              "    }\n",
              "    element.appendChild(document.createTextNode(''));\n",
              "    const url = await google.colab.kernel.proxyPort(port, {cache});\n",
              "    const iframe = document.createElement('iframe');\n",
              "    iframe.src = new URL(path, url).toString();\n",
              "    iframe.height = height;\n",
              "    iframe.width = width;\n",
              "    iframe.style.border = 0;\n",
              "    iframe.allow = [\n",
              "        'accelerometer',\n",
              "        'autoplay',\n",
              "        'camera',\n",
              "        'clipboard-read',\n",
              "        'clipboard-write',\n",
              "        'gyroscope',\n",
              "        'magnetometer',\n",
              "        'microphone',\n",
              "        'serial',\n",
              "        'usb',\n",
              "        'xr-spatial-tracking',\n",
              "    ].join('; ');\n",
              "    element.appendChild(iframe);\n",
              "  })(4050, \"/\", \"100%\", 650, false, window.element)"
            ]
          },
          "metadata": {}
        }
      ]
    },
    {
      "cell_type": "code",
      "source": [],
      "metadata": {
        "id": "8Cs4LLdd_pkl"
      },
      "execution_count": null,
      "outputs": []
    }
  ]
}